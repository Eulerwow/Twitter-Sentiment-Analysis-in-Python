{
 "cells": [
  {
   "cell_type": "code",
   "execution_count": 1,
   "id": "32a6e133",
   "metadata": {},
   "outputs": [],
   "source": [
    "# import packages\n",
    "import pandas as pd\n",
    "import pickle\n",
    "import numpy as np\n",
    "from sentence_transformers import SentenceTransformer\n",
    "model = SentenceTransformer('all-mpnet-base-v2')"
   ]
  },
  {
   "cell_type": "code",
   "execution_count": 30,
   "id": "55b74cb4",
   "metadata": {},
   "outputs": [],
   "source": [
    "# set file directors\n",
    "\n",
    "f_dev_tfidf = 'Data/tfidf-tweets/tfidf/dev_tfidf.pkl'\n",
    "f_train_tfidf = 'Data/tfidf-tweets/tfidf/train_tfidf.pkl'\n",
    "f_un_tfidf= 'Data/tfidf-tweets/tfidf/unlabeled_tfidf.pkl'\n",
    "f_test_tfidf= 'Data/tfidf-tweets/tfidf/test_tfidf.pkl'\n",
    "\n",
    "f_dev_emb = 'Data/embedding-tweets/sentence-transformers/dev_emb.pkl'\n",
    "f_train_emb = 'Data/embedding-tweets/sentence-transformers/train_emb.pkl'\n",
    "f_un_emb = 'Data/embedding-tweets/sentence-transformers/unlabeled_emb.pkl'\n",
    "f_test_emb= 'Data/embedding-tweets/sentence-transformers/test_emb.pkl'\n",
    "\n",
    "f_dev_raw = 'Data/raw-tweets/tweets-data/dev.pkl'\n",
    "f_train_raw = 'Data/raw-tweets/tweets-data/train.pkl'\n",
    "f_un_raw = 'Data/raw-tweets/tweets-data/unlabeled.pkl'\n",
    "f_test_raw = 'Data/raw-tweets/tweets-data/test.pkl'\n",
    "\n",
    "f_un_pred_AAE_raw= 'Data/raw-tweets/tweets-data/unlabeled_pred_AAE_raw.pkl'\n",
    "\n",
    "f_dev_mpnet = 'Data/embedding-tweets/mpnet/dev_mpnet.pkl'\n",
    "f_train_mpnet = 'Data/embedding-tweets/mpnet/train_mpnet.pkl'\n",
    "f_un_mpnet = 'Data/embedding-tweets/mpnet/unlabeled_mpnet.pkl'\n",
    "f_test_mpnet = 'Data/embedding-tweets/mpnet/test_mpnet.pkl'\n",
    "\n",
    "f_un_pred_AAE_mpnet = 'Data/embedding-tweets/mpnet/unlabeled_pred_AAE_mpnet.pkl'"
   ]
  },
  {
   "cell_type": "code",
   "execution_count": 68,
   "id": "dc4cf12f",
   "metadata": {},
   "outputs": [],
   "source": [
    "raw = [f_dev_raw, f_train_raw, f_un_raw, f_test_raw]\n",
    "mpnet = [f_dev_mpnet, f_train_mpnet, f_un_mpnet, f_test_mpnet]\n",
    "\n",
    "for n in range(len(raw)):\n",
    "    with open(raw[n],'rb') as f:\n",
    "        table = pickle.load(f)\n",
    "    tweets = table.text\n",
    "\n",
    "    #Sentences are encoded by calling model.encode()\n",
    "    embeddings = model.encode(tweets)\n",
    "\n",
    "    #Save the embeddings\n",
    "    for i in range(table.shape[0]):\n",
    "        table.text[i] = embeddings[i]\n",
    "    table = table.rename({'text': 'TFIDF'}, axis=1)\n",
    "    table.to_pickle(mpnet[n])"
   ]
  }
 ],
 "metadata": {
  "kernelspec": {
   "display_name": "Python 3 (ipykernel)",
   "language": "python",
   "name": "python3"
  },
  "language_info": {
   "codemirror_mode": {
    "name": "ipython",
    "version": 3
   },
   "file_extension": ".py",
   "mimetype": "text/x-python",
   "name": "python",
   "nbconvert_exporter": "python",
   "pygments_lexer": "ipython3",
   "version": "3.9.7"
  }
 },
 "nbformat": 4,
 "nbformat_minor": 5
}
